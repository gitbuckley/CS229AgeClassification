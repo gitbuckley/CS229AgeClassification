{
 "cells": [
  {
   "cell_type": "markdown",
   "metadata": {},
   "source": [
    "# Cell Type Specific Age Prediction Models using scRNA-seq Data"
   ]
  },
  {
   "cell_type": "markdown",
   "metadata": {},
   "source": [
    "### Matthew T. Buckley\n",
    "Started: Jan 6 2018  \n",
    "Last modified: Jan 6 2018  \n",
    "Data produced by Ben Dulken and myself in the Brunet Lab, Stanford University.  \n",
    "Project begun in Stanford's CS229 Class. "
   ]
  },
  {
   "cell_type": "code",
   "execution_count": 20,
   "metadata": {
    "collapsed": true
   },
   "outputs": [],
   "source": [
    "import numpy as np\n",
    "import pandas as pd\n",
    "import os\n",
    "from sklearn.model_selection import train_test_split\n",
    "from sklearn.linear_model import LogisticRegression\n",
    "import seaborn as sns\n",
    "import matplotlib.pyplot as plt\n",
    "from sklearn.metrics import roc_curve, auc"
   ]
  },
  {
   "cell_type": "code",
   "execution_count": 25,
   "metadata": {},
   "outputs": [],
   "source": [
    "# Plot settings\n",
    "sns.set_style(\"whitegrid\")\n",
    "%matplotlib inline\n",
    "plt.rcParams['figure.figsize'] = [10, 6]"
   ]
  },
  {
   "cell_type": "code",
   "execution_count": 5,
   "metadata": {},
   "outputs": [
    {
     "ename": "NameError",
     "evalue": "name 'head' is not defined",
     "output_type": "error",
     "traceback": [
      "\u001b[0;31m---------------------------------------------------------------------------\u001b[0m",
      "\u001b[0;31mNameError\u001b[0m                                 Traceback (most recent call last)",
      "\u001b[0;32m<ipython-input-5-5ac04a383a6f>\u001b[0m in \u001b[0;36m<module>\u001b[0;34m()\u001b[0m\n\u001b[1;32m      4\u001b[0m \u001b[0md\u001b[0m \u001b[0;34m=\u001b[0m \u001b[0mpd\u001b[0m\u001b[0;34m.\u001b[0m\u001b[0mread_table\u001b[0m\u001b[0;34m(\u001b[0m\u001b[0;34m\"./data/svz_data.txt\"\u001b[0m\u001b[0;34m,\u001b[0m \u001b[0msep\u001b[0m\u001b[0;34m=\u001b[0m\u001b[0;34m\",\"\u001b[0m\u001b[0;34m)\u001b[0m\u001b[0;34m\u001b[0m\u001b[0m\n\u001b[1;32m      5\u001b[0m \u001b[0md\u001b[0m \u001b[0;34m=\u001b[0m \u001b[0md\u001b[0m\u001b[0;34m.\u001b[0m\u001b[0mdrop\u001b[0m\u001b[0;34m(\u001b[0m\u001b[0;34m\"Unnamed: 0\"\u001b[0m\u001b[0;34m,\u001b[0m \u001b[0maxis\u001b[0m\u001b[0;34m=\u001b[0m\u001b[0;36m1\u001b[0m\u001b[0;34m)\u001b[0m\u001b[0;34m\u001b[0m\u001b[0m\n\u001b[0;32m----> 6\u001b[0;31m \u001b[0mhead\u001b[0m\u001b[0;34m(\u001b[0m\u001b[0md\u001b[0m\u001b[0;34m)\u001b[0m\u001b[0;34m\u001b[0m\u001b[0m\n\u001b[0m",
      "\u001b[0;31mNameError\u001b[0m: name 'head' is not defined"
     ]
    }
   ],
   "source": [
    "# Load labeled scRNA-seq Data\n",
    "os.chdir(os.getenv(\"HOME\") + \"/Desktop/Dropbox/CS229/Project\")\n",
    "d = pd.read_table(\"./data/svz_data.txt\", sep=\",\")\n",
    "d = d.drop(\"Unnamed: 0\", axis=1)"
   ]
  },
  {
   "cell_type": "code",
   "execution_count": 10,
   "metadata": {},
   "outputs": [
    {
     "data": {
      "text/html": [
       "<div>\n",
       "<style>\n",
       "    .dataframe thead tr:only-child th {\n",
       "        text-align: right;\n",
       "    }\n",
       "\n",
       "    .dataframe thead th {\n",
       "        text-align: left;\n",
       "    }\n",
       "\n",
       "    .dataframe tbody tr th {\n",
       "        vertical-align: top;\n",
       "    }\n",
       "</style>\n",
       "<table border=\"1\" class=\"dataframe\">\n",
       "  <thead>\n",
       "    <tr style=\"text-align: right;\">\n",
       "      <th></th>\n",
       "      <th>nGene</th>\n",
       "      <th>nUMI</th>\n",
       "      <th>orig.ident</th>\n",
       "      <th>percent.mito</th>\n",
       "      <th>Age</th>\n",
       "      <th>Replicate</th>\n",
       "      <th>Celltype</th>\n",
       "      <th>Xkr4</th>\n",
       "      <th>Sox17</th>\n",
       "      <th>Mrpl15</th>\n",
       "      <th>...</th>\n",
       "      <th>AC102264.1</th>\n",
       "      <th>AC125149.3</th>\n",
       "      <th>AC125149.5</th>\n",
       "      <th>AC125149.1</th>\n",
       "      <th>AC125149.2</th>\n",
       "      <th>AC125149.4</th>\n",
       "      <th>AC234645.1</th>\n",
       "      <th>AC168977.2</th>\n",
       "      <th>AC168977.1</th>\n",
       "      <th>Vmn2r122</th>\n",
       "    </tr>\n",
       "  </thead>\n",
       "  <tbody>\n",
       "    <tr>\n",
       "      <th>0</th>\n",
       "      <td>3106</td>\n",
       "      <td>8320</td>\n",
       "      <td>y1</td>\n",
       "      <td>0.022476</td>\n",
       "      <td>y</td>\n",
       "      <td>1</td>\n",
       "      <td>aNSCs_NPCs</td>\n",
       "      <td>0.0</td>\n",
       "      <td>0.00000</td>\n",
       "      <td>0.789331</td>\n",
       "      <td>...</td>\n",
       "      <td>0</td>\n",
       "      <td>0.0</td>\n",
       "      <td>0</td>\n",
       "      <td>0</td>\n",
       "      <td>0.0</td>\n",
       "      <td>0</td>\n",
       "      <td>0</td>\n",
       "      <td>0.0</td>\n",
       "      <td>0.0</td>\n",
       "      <td>0</td>\n",
       "    </tr>\n",
       "    <tr>\n",
       "      <th>1</th>\n",
       "      <td>1738</td>\n",
       "      <td>3517</td>\n",
       "      <td>y1</td>\n",
       "      <td>0.023031</td>\n",
       "      <td>y</td>\n",
       "      <td>1</td>\n",
       "      <td>aNSCs_NPCs</td>\n",
       "      <td>0.0</td>\n",
       "      <td>1.34634</td>\n",
       "      <td>0.000000</td>\n",
       "      <td>...</td>\n",
       "      <td>0</td>\n",
       "      <td>0.0</td>\n",
       "      <td>0</td>\n",
       "      <td>0</td>\n",
       "      <td>0.0</td>\n",
       "      <td>0</td>\n",
       "      <td>0</td>\n",
       "      <td>0.0</td>\n",
       "      <td>0.0</td>\n",
       "      <td>0</td>\n",
       "    </tr>\n",
       "    <tr>\n",
       "      <th>2</th>\n",
       "      <td>899</td>\n",
       "      <td>1380</td>\n",
       "      <td>y1</td>\n",
       "      <td>0.046377</td>\n",
       "      <td>y</td>\n",
       "      <td>1</td>\n",
       "      <td>Pericytes</td>\n",
       "      <td>0.0</td>\n",
       "      <td>0.00000</td>\n",
       "      <td>0.000000</td>\n",
       "      <td>...</td>\n",
       "      <td>0</td>\n",
       "      <td>0.0</td>\n",
       "      <td>0</td>\n",
       "      <td>0</td>\n",
       "      <td>0.0</td>\n",
       "      <td>0</td>\n",
       "      <td>0</td>\n",
       "      <td>0.0</td>\n",
       "      <td>0.0</td>\n",
       "      <td>0</td>\n",
       "    </tr>\n",
       "    <tr>\n",
       "      <th>3</th>\n",
       "      <td>664</td>\n",
       "      <td>955</td>\n",
       "      <td>y1</td>\n",
       "      <td>0.026178</td>\n",
       "      <td>y</td>\n",
       "      <td>1</td>\n",
       "      <td>Pericytes</td>\n",
       "      <td>0.0</td>\n",
       "      <td>0.00000</td>\n",
       "      <td>0.000000</td>\n",
       "      <td>...</td>\n",
       "      <td>0</td>\n",
       "      <td>0.0</td>\n",
       "      <td>0</td>\n",
       "      <td>0</td>\n",
       "      <td>0.0</td>\n",
       "      <td>0</td>\n",
       "      <td>0</td>\n",
       "      <td>0.0</td>\n",
       "      <td>0.0</td>\n",
       "      <td>0</td>\n",
       "    </tr>\n",
       "    <tr>\n",
       "      <th>4</th>\n",
       "      <td>1127</td>\n",
       "      <td>2196</td>\n",
       "      <td>y1</td>\n",
       "      <td>0.076047</td>\n",
       "      <td>y</td>\n",
       "      <td>1</td>\n",
       "      <td>Oligodendrocytes</td>\n",
       "      <td>0.0</td>\n",
       "      <td>0.00000</td>\n",
       "      <td>0.000000</td>\n",
       "      <td>...</td>\n",
       "      <td>0</td>\n",
       "      <td>0.0</td>\n",
       "      <td>0</td>\n",
       "      <td>0</td>\n",
       "      <td>0.0</td>\n",
       "      <td>0</td>\n",
       "      <td>0</td>\n",
       "      <td>0.0</td>\n",
       "      <td>0.0</td>\n",
       "      <td>0</td>\n",
       "    </tr>\n",
       "    <tr>\n",
       "      <th>5</th>\n",
       "      <td>1392</td>\n",
       "      <td>2890</td>\n",
       "      <td>y1</td>\n",
       "      <td>0.036332</td>\n",
       "      <td>y</td>\n",
       "      <td>1</td>\n",
       "      <td>Oligodendrocytes</td>\n",
       "      <td>0.0</td>\n",
       "      <td>0.00000</td>\n",
       "      <td>0.000000</td>\n",
       "      <td>...</td>\n",
       "      <td>0</td>\n",
       "      <td>0.0</td>\n",
       "      <td>0</td>\n",
       "      <td>0</td>\n",
       "      <td>0.0</td>\n",
       "      <td>0</td>\n",
       "      <td>0</td>\n",
       "      <td>0.0</td>\n",
       "      <td>0.0</td>\n",
       "      <td>0</td>\n",
       "    </tr>\n",
       "    <tr>\n",
       "      <th>6</th>\n",
       "      <td>1481</td>\n",
       "      <td>3706</td>\n",
       "      <td>y1</td>\n",
       "      <td>0.039935</td>\n",
       "      <td>y</td>\n",
       "      <td>1</td>\n",
       "      <td>Microglia</td>\n",
       "      <td>0.0</td>\n",
       "      <td>0.00000</td>\n",
       "      <td>0.000000</td>\n",
       "      <td>...</td>\n",
       "      <td>0</td>\n",
       "      <td>0.0</td>\n",
       "      <td>0</td>\n",
       "      <td>0</td>\n",
       "      <td>0.0</td>\n",
       "      <td>0</td>\n",
       "      <td>0</td>\n",
       "      <td>0.0</td>\n",
       "      <td>0.0</td>\n",
       "      <td>0</td>\n",
       "    </tr>\n",
       "    <tr>\n",
       "      <th>7</th>\n",
       "      <td>1086</td>\n",
       "      <td>2104</td>\n",
       "      <td>y1</td>\n",
       "      <td>0.059886</td>\n",
       "      <td>y</td>\n",
       "      <td>1</td>\n",
       "      <td>Oligodendrocytes</td>\n",
       "      <td>0.0</td>\n",
       "      <td>0.00000</td>\n",
       "      <td>0.000000</td>\n",
       "      <td>...</td>\n",
       "      <td>0</td>\n",
       "      <td>0.0</td>\n",
       "      <td>0</td>\n",
       "      <td>0</td>\n",
       "      <td>0.0</td>\n",
       "      <td>0</td>\n",
       "      <td>0</td>\n",
       "      <td>0.0</td>\n",
       "      <td>0.0</td>\n",
       "      <td>0</td>\n",
       "    </tr>\n",
       "    <tr>\n",
       "      <th>8</th>\n",
       "      <td>1508</td>\n",
       "      <td>3973</td>\n",
       "      <td>y1</td>\n",
       "      <td>0.033224</td>\n",
       "      <td>y</td>\n",
       "      <td>1</td>\n",
       "      <td>Microglia</td>\n",
       "      <td>0.0</td>\n",
       "      <td>0.00000</td>\n",
       "      <td>1.257605</td>\n",
       "      <td>...</td>\n",
       "      <td>0</td>\n",
       "      <td>0.0</td>\n",
       "      <td>0</td>\n",
       "      <td>0</td>\n",
       "      <td>0.0</td>\n",
       "      <td>0</td>\n",
       "      <td>0</td>\n",
       "      <td>0.0</td>\n",
       "      <td>0.0</td>\n",
       "      <td>0</td>\n",
       "    </tr>\n",
       "    <tr>\n",
       "      <th>9</th>\n",
       "      <td>528</td>\n",
       "      <td>845</td>\n",
       "      <td>y1</td>\n",
       "      <td>0.024852</td>\n",
       "      <td>y</td>\n",
       "      <td>1</td>\n",
       "      <td>Oligodendrocytes</td>\n",
       "      <td>0.0</td>\n",
       "      <td>0.00000</td>\n",
       "      <td>0.000000</td>\n",
       "      <td>...</td>\n",
       "      <td>0</td>\n",
       "      <td>0.0</td>\n",
       "      <td>0</td>\n",
       "      <td>0</td>\n",
       "      <td>0.0</td>\n",
       "      <td>0</td>\n",
       "      <td>0</td>\n",
       "      <td>0.0</td>\n",
       "      <td>0.0</td>\n",
       "      <td>0</td>\n",
       "    </tr>\n",
       "  </tbody>\n",
       "</table>\n",
       "<p>10 rows × 28003 columns</p>\n",
       "</div>"
      ],
      "text/plain": [
       "   nGene  nUMI orig.ident  percent.mito Age  Replicate          Celltype  \\\n",
       "0   3106  8320         y1      0.022476   y          1        aNSCs_NPCs   \n",
       "1   1738  3517         y1      0.023031   y          1        aNSCs_NPCs   \n",
       "2    899  1380         y1      0.046377   y          1         Pericytes   \n",
       "3    664   955         y1      0.026178   y          1         Pericytes   \n",
       "4   1127  2196         y1      0.076047   y          1  Oligodendrocytes   \n",
       "5   1392  2890         y1      0.036332   y          1  Oligodendrocytes   \n",
       "6   1481  3706         y1      0.039935   y          1         Microglia   \n",
       "7   1086  2104         y1      0.059886   y          1  Oligodendrocytes   \n",
       "8   1508  3973         y1      0.033224   y          1         Microglia   \n",
       "9    528   845         y1      0.024852   y          1  Oligodendrocytes   \n",
       "\n",
       "   Xkr4    Sox17    Mrpl15    ...     AC102264.1  AC125149.3  AC125149.5  \\\n",
       "0   0.0  0.00000  0.789331    ...              0         0.0           0   \n",
       "1   0.0  1.34634  0.000000    ...              0         0.0           0   \n",
       "2   0.0  0.00000  0.000000    ...              0         0.0           0   \n",
       "3   0.0  0.00000  0.000000    ...              0         0.0           0   \n",
       "4   0.0  0.00000  0.000000    ...              0         0.0           0   \n",
       "5   0.0  0.00000  0.000000    ...              0         0.0           0   \n",
       "6   0.0  0.00000  0.000000    ...              0         0.0           0   \n",
       "7   0.0  0.00000  0.000000    ...              0         0.0           0   \n",
       "8   0.0  0.00000  1.257605    ...              0         0.0           0   \n",
       "9   0.0  0.00000  0.000000    ...              0         0.0           0   \n",
       "\n",
       "   AC125149.1  AC125149.2  AC125149.4  AC234645.1  AC168977.2  AC168977.1  \\\n",
       "0           0         0.0           0           0         0.0         0.0   \n",
       "1           0         0.0           0           0         0.0         0.0   \n",
       "2           0         0.0           0           0         0.0         0.0   \n",
       "3           0         0.0           0           0         0.0         0.0   \n",
       "4           0         0.0           0           0         0.0         0.0   \n",
       "5           0         0.0           0           0         0.0         0.0   \n",
       "6           0         0.0           0           0         0.0         0.0   \n",
       "7           0         0.0           0           0         0.0         0.0   \n",
       "8           0         0.0           0           0         0.0         0.0   \n",
       "9           0         0.0           0           0         0.0         0.0   \n",
       "\n",
       "   Vmn2r122  \n",
       "0         0  \n",
       "1         0  \n",
       "2         0  \n",
       "3         0  \n",
       "4         0  \n",
       "5         0  \n",
       "6         0  \n",
       "7         0  \n",
       "8         0  \n",
       "9         0  \n",
       "\n",
       "[10 rows x 28003 columns]"
      ]
     },
     "execution_count": 10,
     "metadata": {},
     "output_type": "execute_result"
    }
   ],
   "source": [
    "d[0:10]"
   ]
  },
  {
   "cell_type": "code",
   "execution_count": 11,
   "metadata": {
    "collapsed": true
   },
   "outputs": [],
   "source": [
    "# Subset the most frequent cell types then age balance. \n",
    "d.endo = d[d.Celltype == \"Endothelial\"]\n",
    "d.endo.o = d.endo[d.endo.Age == \"o\"] # 1149 cells. Mean genes detected per cell: 1155.78\n",
    "d.endo.y = d.endo[d.endo.Age == \"y\"] # 991, 1179.85 (-2% delta with age)\n",
    "\n",
    "d.oligo = d[d.Celltype == \"Oligodendrocytes\"]\n",
    "d.oligo.o = d.oligo[d.oligo.Age == \"o\"] # 691, mean genes 1490.86\n",
    "d.oligo.y = d.oligo[d.oligo.Age == \"y\"] # 966, 1492.18 (0% delta)\n",
    "\n",
    "d.micro = d[d.Celltype == \"Microglia\"]\n",
    "d.micro.o = d.micro[d.micro.Age == \"o\"] # 989, mean genes 1386.62\n",
    "d.micro.y = d.micro[d.micro.Age == \"y\"] # 747, 1217.98 (+12% delta with age)\n",
    "\n",
    "d.astroq = d[d.Celltype == \"Astrocytes_qNSCs\"]\n",
    "d.astroq.o = d.astroq[d.astroq.Age == \"o\"] # 600, mean genes 1128.00\n",
    "d.astroq.y = d.astroq[d.astroq.Age == \"y\"] # 407, 1163.11 (-3% delta with age)\n",
    "\n",
    "# Lowest number is 407. Thus randomly sample 407 rows\n",
    "# from each age/celltype combination, then combine\n",
    "# into age balanced cell type specific matrices."
   ]
  },
  {
   "cell_type": "code",
   "execution_count": 12,
   "metadata": {
    "collapsed": true
   },
   "outputs": [],
   "source": [
    "# Variables and Constants\n",
    "s = 407 # sample number\n",
    "rs = 7 # random state"
   ]
  },
  {
   "cell_type": "code",
   "execution_count": 13,
   "metadata": {
    "collapsed": true
   },
   "outputs": [],
   "source": [
    "# Age balance\n",
    "endo_o = d.endo.o.sample(n=s, random_state = rs)\n",
    "endo_y = d.endo.y.sample(n=s, random_state = rs)\n",
    "endo_bal = pd.concat((endo_y, endo_o))\n",
    "\n",
    "oligo_o = d.oligo.o.sample(n=s, random_state = rs)\n",
    "oligo_y = d.oligo.y.sample(n=s, random_state = rs)\n",
    "oligo_bal = pd.concat((oligo_y, oligo_o))\n",
    "\n",
    "micro_o = d.micro.o.sample(n=s, random_state = rs)\n",
    "micro_y = d.micro.y.sample(n=s, random_state = rs)\n",
    "micro_bal = pd.concat((micro_y, micro_o))\n",
    "\n",
    "astroq_o = d.astroq.o.sample(n=s, random_state = rs)\n",
    "astroq_y = d.astroq.y.sample(n=s, random_state = rs)\n",
    "astroq_bal = pd.concat((astroq_y, astroq_o))"
   ]
  },
  {
   "cell_type": "code",
   "execution_count": 14,
   "metadata": {
    "collapsed": true
   },
   "outputs": [],
   "source": [
    "# Dictionary of balanced celltypes\n",
    "d_celltypes = dict()\n",
    "d_celltypes[\"Endothelial\"] = endo_bal\n",
    "d_celltypes[\"Oligodendrocytes\"] = oligo_bal\n",
    "d_celltypes[\"Microglia\"] = micro_bal\n",
    "d_celltypes[\"Astrocytes_qNSCs\"] = astroq_bal"
   ]
  },
  {
   "cell_type": "code",
   "execution_count": 17,
   "metadata": {
    "collapsed": true
   },
   "outputs": [],
   "source": [
    "# L2 LOGISTIC REGRESSION\n",
    "clf = LogisticRegression(C = .01, penalty = \"l2\")"
   ]
  },
  {
   "cell_type": "code",
   "execution_count": 18,
   "metadata": {},
   "outputs": [
    {
     "name": "stdout",
     "output_type": "stream",
     "text": [
      "Endothelial\n",
      "0.969325153374\n",
      "Oligodendrocytes\n",
      "0.926380368098\n",
      "Microglia\n",
      "0.944785276074\n",
      "Astrocytes_qNSCs\n",
      "0.926380368098\n"
     ]
    }
   ],
   "source": [
    "cell_model_data = dict()\n",
    "\n",
    "for c in d_celltypes.keys():\n",
    "    # Split data\n",
    "    y = pd.factorize(d_celltypes[c].Age)[0]\n",
    "    X = d_celltypes[c].iloc[:, 7:]\n",
    "    X_train, X_test, y_train, y_test = train_test_split(X, y, test_size=0.20, random_state=rs, shuffle=True)\n",
    "    # Train model\n",
    "    clf.fit(X_train, y_train)\n",
    "    pred = clf.predict(X_test)\n",
    "    probs = clf.predict_proba(X_test)[:, 1]\n",
    "    acc_test = np.mean(pred == y_test)\n",
    "    print(c)\n",
    "    print(acc_test)\n",
    "    cell_model_data[c] = [probs, pred, X_train, X_test, y_train, y_test, acc_test]"
   ]
  },
  {
   "cell_type": "code",
   "execution_count": 21,
   "metadata": {},
   "outputs": [],
   "source": [
    "multi_roc = dict()\n",
    "for c in d_celltypes.keys():\n",
    "    # Load cell type specific classifer and relevant data\n",
    "    probs, pred, X_train, X_test, y_train, y_test, acc_test = cell_model_data[c]\n",
    "    # Metrics and Plots\n",
    "    ## AUC\n",
    "    fpr, tpr, thresh = roc_curve(y_test, probs)\n",
    "    roc_auc = auc(fpr, tpr)\n",
    "    multi_roc[c] = [fpr, tpr, roc_auc]"
   ]
  },
  {
   "cell_type": "code",
   "execution_count": 27,
   "metadata": {},
   "outputs": [
    {
     "data": {
      "image/png": "[encoded data removed]",
      "text/plain": [
       "<matplotlib.figure.Figure at 0x1a192d5a58>"
      ]
     },
     "metadata": {},
     "output_type": "display_data"
    }
   ],
   "source": [
    "# AUROC Plot for all 4 models. \n",
    "plt.figure()\n",
    "lw = 1.6\n",
    "for c in ['Astrocytes_qNSCs', 'Endothelial', 'Microglia', \"Oligodendrocytes\"]:\n",
    "    plt.plot(multi_roc[c][0], multi_roc[c][1], lw=lw, label='{0} AUC: {1:0.3f}, Acc: {2:0.3f}'.format(c, multi_roc[c][2], cell_model_data[c][6]))\n",
    "plt.plot([0, 1], [0, 1], 'k--', lw=lw)\n",
    "plt.xlim([0.0, 1.02])\n",
    "plt.ylim([0.0, 1.02])\n",
    "plt.xlabel('False Positive Rate')\n",
    "plt.ylabel('True Positive Rate')\n",
    "plt.title('Young/Old Balanced Polynomial LogReg L2')\n",
    "plt.legend(loc=\"lower right\")\n",
    "plt.show()"
   ]
  },
  {
   "cell_type": "markdown",
   "metadata": {},
   "source": [
    "This AUROC plot reveals the surprisingly good performance of L2 logistic regression based cell type specific young/old age classification models. Age labels are balanced by subsetting before training and testing. Training set n=651 (80%); test set n=163 (20%).  \n",
    "Classification performance is highest on endothelial cells suggesting that this cell type may experience greater age-associated transcriptomic changes. I was expecting microglia to show this result. "
   ]
  },
  {
   "cell_type": "code",
   "execution_count": null,
   "metadata": {
    "collapsed": true
   },
   "outputs": [],
   "source": [
    "TO-DO:\n",
    "    - tSNE Visualization"
   ]
  },
  {
   "cell_type": "code",
   "execution_count": null,
   "metadata": {
    "collapsed": true
   },
   "outputs": [],
   "source": []
  },
  {
   "cell_type": "code",
   "execution_count": null,
   "metadata": {
    "collapsed": true
   },
   "outputs": [],
   "source": []
  },
  {
   "cell_type": "code",
   "execution_count": null,
   "metadata": {
    "collapsed": true
   },
   "outputs": [],
   "source": []
  },
  {
   "cell_type": "code",
   "execution_count": null,
   "metadata": {
    "collapsed": true
   },
   "outputs": [],
   "source": []
  },
  {
   "cell_type": "code",
   "execution_count": null,
   "metadata": {
    "collapsed": true
   },
   "outputs": [],
   "source": []
  },
  {
   "cell_type": "code",
   "execution_count": null,
   "metadata": {
    "collapsed": true
   },
   "outputs": [],
   "source": []
  },
  {
   "cell_type": "code",
   "execution_count": null,
   "metadata": {
    "collapsed": true
   },
   "outputs": [],
   "source": []
  }
 ],
 "metadata": {
  "kernelspec": {
   "display_name": "Python 3",
   "language": "python",
   "name": "python3"
  },
  "language_info": {
   "codemirror_mode": {
    "name": "ipython",
    "version": 3
   },
   "file_extension": ".py",
   "mimetype": "text/x-python",
   "name": "python",
   "nbconvert_exporter": "python",
   "pygments_lexer": "ipython3",
   "version": "3.6.3"
  }
 },
 "nbformat": 4,
 "nbformat_minor": 2
}
